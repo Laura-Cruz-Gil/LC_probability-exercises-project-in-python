{
 "cells": [
  {
   "cell_type": "markdown",
   "id": "a41f3622",
   "metadata": {},
   "source": [
    "# Ejercicios de probabilidad"
   ]
  },
  {
   "cell_type": "markdown",
   "id": "a6bdbd89",
   "metadata": {},
   "source": [
    "## Ejercicio 1 \n",
    "\n",
    "Dos dados se lanzan una vez y se observa el total obtenido. Usa una simulación para encontrar la probabilidad estimada de que la puntuación sea mayor a 7 o un número par. Una simulación es una repetición del mismo experimento multiples veces para observar su comportamiento:\n",
    "\n",
    "- Ejecuta el experimento 1000 veces (lanza 2 dados 1000 veces, y suma el número de ambos dados).\n",
    "- Lleva una cuenta de los números y las veces que la suma fue mayor a 7 o un número par.\n",
    "- Divide el número del paso 2 entre el número de iteraciones(1000)."
   ]
  },
  {
   "cell_type": "code",
   "execution_count": 6,
   "id": "612d4ab1",
   "metadata": {},
   "outputs": [
    {
     "name": "stdout",
     "output_type": "stream",
     "text": [
      "Las veces que la suma ha sido mayor a siete es 408 y la probabilidad que esto ocurra es 0.408\n",
      "Las veces que la suma es par es 486 y la probabilidad que esto ocurra es 0.486\n"
     ]
    }
   ],
   "source": [
    "#dado1 = [1, 2, 3, 4, 5, 6]\n",
    "#dado2 = [1, 2, 3, 4, 5, 6]\n",
    "\n",
    "import random\n",
    "\n",
    "def main():\n",
    "    iteraciones = 1000\n",
    "    a=0\n",
    "    b=0\n",
    "    i=0\n",
    "    \n",
    "    for i in range (1, iteraciones + 1):\n",
    "        #print (i)   opcional, para validar el numero de iteraciones\n",
    "        dado1= random.randint(1,6)\n",
    "        dado2= random.randint(1,6)\n",
    "        suma = dado1 + dado2\n",
    "             \n",
    "        if suma > 7:\n",
    "            a=a+1\n",
    "            #print(f'La suma es mayor a 7 y el valor de los dados es {dado1} y {dado2} y suman {suma}, esto ha ocurrido {a} veces');    opcional, para validar el numero de iteraciones\n",
    "        if suma % 2 == 0:\n",
    "            b=b+1\n",
    "            #print(f'el valor de los dados es {dado1} y {dado2} y suman {suma}, esto ha ocurrido {b} veces');    opcional, para validar el numero de iteraciones\n",
    "    i= i+1\n",
    "\n",
    "    return a, b  # Retornamos los valores de `a` y `b`\n",
    "\n",
    "if __name__ == \"__main__\":\n",
    "    a, b = main()  # Asignamos los valores retornados por la función\n",
    "\n",
    "\n",
    "mayor7 = a / 1000\n",
    "print(f'Las veces que la suma ha sido mayor a siete es {a} y la probabilidad que esto ocurra es {mayor7}')\n",
    "par = b / 1000\n",
    "print(f'Las veces que la suma es par es {b} y la probabilidad que esto ocurra es {par}')\n"
   ]
  },
  {
   "cell_type": "markdown",
   "id": "55732bca",
   "metadata": {},
   "source": [
    "## Ejercicio 2\n",
    "\n",
    "Una caja contiene 10 bolas blancas, 20 bolas rojas y 30 bolas verdes. Si tomamos 5 bolas de la caja reemplazándolas (tomando una bola, anotando el color y luego regresandola a la caja). Queremos saber la probabilidad de:\n",
    "\n",
    "1. Tomar 3 blancas y 2 rojas.\n",
    "2. Todas todas del mismo color.\n",
    "\n",
    "Ejecuta el experimento 1000 veces y calcula las probabilidades que mencionadas."
   ]
  },
  {
   "cell_type": "code",
   "execution_count": 21,
   "id": "23244d20",
   "metadata": {},
   "outputs": [
    {
     "name": "stdout",
     "output_type": "stream",
     "text": [
      "{0: 'White', 1: 'White', 2: 'White', 3: 'White', 4: 'White', 5: 'White', 6: 'White', 7: 'White', 8: 'White', 9: 'White', 10: 'Red', 11: 'Red', 12: 'Red', 13: 'Red', 14: 'Red', 15: 'Red', 16: 'Red', 17: 'Red', 18: 'Red', 19: 'Red', 20: 'Red', 21: 'Red', 22: 'Red', 23: 'Red', 24: 'Red', 25: 'Red', 26: 'Red', 27: 'Red', 28: 'Red', 29: 'Red', 30: 'Green', 31: 'Green', 32: 'Green', 33: 'Green', 34: 'Green', 35: 'Green', 36: 'Green', 37: 'Green', 38: 'Green', 39: 'Green', 40: 'Green', 41: 'Green', 42: 'Green', 43: 'Green', 44: 'Green', 45: 'Green', 46: 'Green', 47: 'Green', 48: 'Green', 49: 'Green', 50: 'Green', 51: 'Green', 52: 'Green', 53: 'Green', 54: 'Green', 55: 'Green', 56: 'Green', 57: 'Green', 58: 'Green', 59: 'Green'}\n",
      "La probabilidad de tomar 3 blancas y 2 rojas es de 0.043\n",
      "La probabilidad de tomar todas del mismo color es de 0.028\n"
     ]
    }
   ],
   "source": [
    "import numpy as np\n",
    "from numpy import *\n",
    "import random\n",
    "\n",
    "ball_box = {}\n",
    "\n",
    "# Crea la cajas con las bolas\n",
    "for i in range(60):\n",
    "    if i < 10:\n",
    "        ball_box[i] = \"White\"\n",
    "    elif (i > 9) and (i < 30):\n",
    "        ball_box[i] = \"Red\"\n",
    "    else:\n",
    "        ball_box[i] = \"Green\"\n",
    "\n",
    "print(ball_box)\n",
    "            \n",
    "# TODO\n",
    "\n",
    "def main():\n",
    "    iteraciones = 1000   # número de veces que ejecutaremos el ejercicio en este caso 1000 veces\n",
    "    a= 0  # contador de 3 bolas blancas y 2 rojas\n",
    "    b= 0  # contador de 3 bolas iguales\n",
    "\n",
    "    for i in range (1, iteraciones + 1):\n",
    "        bola_azar= random.sample(list(ball_box.values()),5)\n",
    "        contar_blancas= bola_azar.count(\"White\")\n",
    "        contar_verdes= bola_azar.count(\"Green\")\n",
    "        contar_rojas= bola_azar.count(\"Red\")\n",
    "        #print (bola_azar)     #opcional, se imprime para comprobar la validez del ejercicio\n",
    "\n",
    "        if contar_blancas == 3 & contar_rojas == 2:\n",
    "            a=a+1\n",
    "        if contar_blancas == 5 or contar_rojas == 5 or contar_verdes== 5:\n",
    "            b=b+1\n",
    "\n",
    "        #print (f'blancas:{contar_blancas}, verdes:{contar_verdes}, rojas: {contar_rojas}')  #opcional, se imprime para comprobar la validez del ejercicio\n",
    "        \n",
    "    i= i+1\n",
    "    return a, b  # Retornamos los valores de `a` y `b`\n",
    "\n",
    "if __name__ == \"__main__\":\n",
    "    a, b = main()  # Asignamos los valores retornados por la función\n",
    "\n",
    "prob_a= a / 1000  # Probabilidad de tomar 3 blancas y 2 rojas.\n",
    "print (f'La probabilidad de tomar 3 blancas y 2 rojas es de {prob_a}')\n",
    "prob_b= b / 1000  # Probabilidad de tomar 3 blancas y 2 rojas.\n",
    "print (f'La probabilidad de tomar todas del mismo color es de {prob_b}')\n"
   ]
  }
 ],
 "metadata": {
  "kernelspec": {
   "display_name": "Python 3",
   "language": "python",
   "name": "python3"
  },
  "language_info": {
   "codemirror_mode": {
    "name": "ipython",
    "version": 3
   },
   "file_extension": ".py",
   "mimetype": "text/x-python",
   "name": "python",
   "nbconvert_exporter": "python",
   "pygments_lexer": "ipython3",
   "version": "3.11.4"
  }
 },
 "nbformat": 4,
 "nbformat_minor": 5
}
